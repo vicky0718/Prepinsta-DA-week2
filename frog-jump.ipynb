{
 "cells": [
  {
   "cell_type": "code",
   "execution_count": 1,
   "id": "d088ab70-a38a-4d95-95ea-d6f4293834d4",
   "metadata": {},
   "outputs": [],
   "source": [
    "positions = ['G','G','G','-','B','B','B']"
   ]
  },
  {
   "cell_type": "code",
   "execution_count": 2,
   "id": "4f02b9d5-7b58-4786-9c10-b2a617da487a",
   "metadata": {},
   "outputs": [
    {
     "name": "stdout",
     "output_type": "stream",
     "text": [
      "[ 0 ,  1 ,  2 ,  3 ,  4 ,  5 ,  6 ]\n",
      "['G', 'G', 'G', '-', 'B', 'B', 'B']\n"
     ]
    }
   ],
   "source": [
    "print(\"[ 0 ,  1 ,  2 ,  3 ,  4 ,  5 ,  6 ]\")\n",
    "print(positions)\n"
   ]
  },
  {
   "cell_type": "code",
   "execution_count": 3,
   "id": "555363e5-698c-47e4-ad83-b5a1728dcc39",
   "metadata": {},
   "outputs": [
    {
     "name": "stdin",
     "output_type": "stream",
     "text": [
      "Press q to quit else \n",
      "Enter position of piece:  1\n"
     ]
    }
   ],
   "source": [
    "platform = input(\"Press q to quit else \\nEnter position of piece: \")"
   ]
  },
  {
   "cell_type": "code",
   "execution_count": 4,
   "id": "d030e312-0319-4d93-b132-168c37af1fc4",
   "metadata": {},
   "outputs": [],
   "source": [
    "if platform == 'q':\n",
    "    print(\"YOU LOSE!!\")"
   ]
  },
  {
   "cell_type": "code",
   "execution_count": 6,
   "id": "d8c1e828-f06e-42e9-b1be-ae57e0047b22",
   "metadata": {},
   "outputs": [],
   "source": [
    "\n",
    "if platform != 'q':\n",
    "    selected_position = int(platform)\n",
    "     "
   ]
  },
  {
   "cell_type": "code",
   "execution_count": 7,
   "id": "9680c9fa-ed07-49b3-a4c1-b6f8c40cd317",
   "metadata": {},
   "outputs": [],
   "source": [
    "if selected_position < 0 or selected_position > 6:\n",
    "  print('Invalid move')"
   ]
  },
  {
   "cell_type": "code",
   "execution_count": 8,
   "id": "2548fe63-06c2-4e6d-835e-2bf2efa207c4",
   "metadata": {},
   "outputs": [],
   "source": [
    "if positions[selected_position] == '-':\n",
    "    print('Invalid Move')"
   ]
  },
  {
   "cell_type": "code",
   "execution_count": 9,
   "id": "e47aa08d-a603-4816-8d47-57d4941b7839",
   "metadata": {},
   "outputs": [
    {
     "name": "stdout",
     "output_type": "stream",
     "text": [
      "<class 'int'>\n"
     ]
    }
   ],
   "source": [
    "pos2=0\n",
    "print(type(pos2))"
   ]
  },
  {
   "cell_type": "code",
   "execution_count": 10,
   "id": "aa7d6fb6-6993-466c-a9c1-1f30c601ef9e",
   "metadata": {},
   "outputs": [
    {
     "name": "stdout",
     "output_type": "stream",
     "text": [
      "Invalid Move\n"
     ]
    }
   ],
   "source": [
    "\n",
    "if positions[selected_position] == 'G':\n",
    "    if selected_position + 1 <= 6 and positions[selected_position + 1] == '-':\n",
    "        pos2 = selected_position + 1\n",
    "    elif selected_position + 2 <= 6 and positions[selected_position + 2] == '-' and positions[selected_position + 1] == 'B':\n",
    "        pos2 = selected_position + 2\n",
    "    else:\n",
    "        print('Invalid Move')\n",
    "     "
   ]
  },
  {
   "cell_type": "code",
   "execution_count": 14,
   "id": "69d2f826-1b1b-4ae7-a240-12e1ffb834cb",
   "metadata": {},
   "outputs": [],
   "source": [
    "\n",
    "if positions[selected_position] == 'B':  # If the selected frog is 'B'\n",
    "    if selected_position - 1 >= 0 and positions[selected_position - 1] == '-':\n",
    "        pos2 = selected_position - 1\n",
    "    elif selected_position - 2 >= 0 and positions[selected_position - 2] == '-' and positions[selected_position - 1] == 'G':\n",
    "        pos2 = selected_position - 2\n",
    "    else:\n",
    "        print('Invalid Move')"
   ]
  },
  {
   "cell_type": "code",
   "execution_count": 15,
   "id": "02eabb7b-b58e-487e-bb71-c525c7cb02ea",
   "metadata": {},
   "outputs": [],
   "source": [
    "\n",
    "positions[selected_position], positions[pos2] = positions[pos2], positions[selected_position]"
   ]
  },
  {
   "cell_type": "code",
   "execution_count": 16,
   "id": "f44b3f0b-f520-4f9b-95e5-f50d1a7fce09",
   "metadata": {},
   "outputs": [
    {
     "name": "stdout",
     "output_type": "stream",
     "text": [
      "[ 0 ,  1 ,  2 ,  3 ,  4 ,  5 ,  6 ]\n",
      "['G', 'G', 'G', '-', 'B', 'B', 'B']\n"
     ]
    }
   ],
   "source": [
    "\n",
    "print(\"[ 0 ,  1 ,  2 ,  3 ,  4 ,  5 ,  6 ]\")\n",
    "print(positions)"
   ]
  },
  {
   "cell_type": "code",
   "execution_count": 17,
   "id": "feea4aa8-ee26-4fcf-94fb-9ae1948d58a7",
   "metadata": {},
   "outputs": [
    {
     "name": "stdout",
     "output_type": "stream",
     "text": [
      "You Win!\n"
     ]
    }
   ],
   "source": [
    "\n",
    "if positions == ['B', 'B', 'B', '-', 'G', 'G', 'G']:\n",
    "    print(positions)\n",
    "print('You Win!')"
   ]
  },
  {
   "cell_type": "code",
   "execution_count": null,
   "id": "6448eb54-64de-4880-a5b0-f20ecff54501",
   "metadata": {},
   "outputs": [
    {
     "name": "stdout",
     "output_type": "stream",
     "text": [
      "[ 0 ,  1 ,  2 ,  3 ,  4 ,  5 ,  6 ]\n",
      "['G', 'G', 'G', '-', 'B', 'B', 'B']\n"
     ]
    },
    {
     "name": "stdin",
     "output_type": "stream",
     "text": [
      "Press q to quit else \n",
      "Enter position of piece:  1\n"
     ]
    },
    {
     "name": "stdout",
     "output_type": "stream",
     "text": [
      "Invalid Move\n",
      "['G', 'G', 'G', '-', 'B', 'B', 'B']\n"
     ]
    },
    {
     "name": "stdin",
     "output_type": "stream",
     "text": [
      "Press q to quit else \n",
      "Enter position of piece:  3\n"
     ]
    },
    {
     "name": "stdout",
     "output_type": "stream",
     "text": [
      "Invalid Move\n",
      "['G', 'G', 'G', '-', 'B', 'B', 'B']\n"
     ]
    },
    {
     "name": "stdin",
     "output_type": "stream",
     "text": [
      "Press q to quit else \n",
      "Enter position of piece:  2\n"
     ]
    },
    {
     "name": "stdout",
     "output_type": "stream",
     "text": [
      "['G', 'G', '-', 'G', 'B', 'B', 'B']\n"
     ]
    },
    {
     "name": "stdin",
     "output_type": "stream",
     "text": [
      "Press q to quit else \n",
      "Enter position of piece:  4\n"
     ]
    },
    {
     "name": "stdout",
     "output_type": "stream",
     "text": [
      "['G', 'G', 'B', 'G', '-', 'B', 'B']\n"
     ]
    },
    {
     "name": "stdin",
     "output_type": "stream",
     "text": [
      "Press q to quit else \n",
      "Enter position of piece:  5\n"
     ]
    },
    {
     "name": "stdout",
     "output_type": "stream",
     "text": [
      "['G', 'G', 'B', 'G', 'B', '-', 'B']\n"
     ]
    },
    {
     "name": "stdin",
     "output_type": "stream",
     "text": [
      "Press q to quit else \n",
      "Enter position of piece:  4\n"
     ]
    },
    {
     "name": "stdout",
     "output_type": "stream",
     "text": [
      "Invalid Move\n",
      "['G', 'G', 'B', 'G', 'B', '-', 'B']\n"
     ]
    },
    {
     "name": "stdin",
     "output_type": "stream",
     "text": [
      "Press q to quit else \n",
      "Enter position of piece:  3\n"
     ]
    },
    {
     "name": "stdout",
     "output_type": "stream",
     "text": [
      "['G', 'G', 'B', '-', 'B', 'G', 'B']\n"
     ]
    },
    {
     "name": "stdin",
     "output_type": "stream",
     "text": [
      "Press q to quit else \n",
      "Enter position of piece:  1\n"
     ]
    },
    {
     "name": "stdout",
     "output_type": "stream",
     "text": [
      "['G', '-', 'B', 'G', 'B', 'G', 'B']\n"
     ]
    },
    {
     "name": "stdin",
     "output_type": "stream",
     "text": [
      "Press q to quit else \n",
      "Enter position of piece:  0\n"
     ]
    },
    {
     "name": "stdout",
     "output_type": "stream",
     "text": [
      "['-', 'G', 'B', 'G', 'B', 'G', 'B']\n"
     ]
    }
   ],
   "source": [
    "\n",
    "print(\"[ 0 ,  1 ,  2 ,  3 ,  4 ,  5 ,  6 ]\")\n",
    "positions = ['G', 'G', 'G', '-', 'B', 'B', 'B']\n",
    "\n",
    "while True:\n",
    "        print(positions)\n",
    "\n",
    "        # step1\n",
    "        slide = input(\"Press q to quit else \\nEnter position of piece: \")\n",
    "\n",
    "\n",
    "        if slide == 'q':\n",
    "            print('You Lose')\n",
    "            break\n",
    "\n",
    "\n",
    "        selected_position = int(slide)\n",
    "\n",
    "        #step2\n",
    "        if selected_position < 0 or selected_position > 6:\n",
    "            print('Invalid move')\n",
    "            continue\n",
    "\n",
    "\n",
    "        if positions[selected_position] == '-':\n",
    "            print('Invalid Move')\n",
    "            continue\n",
    "\n",
    "         #step3\n",
    "        pos2 = 0\n",
    "\n",
    "        if positions[selected_position] == 'G':\n",
    "            if selected_position + 1 <= 6 and positions[selected_position + 1] == '-':\n",
    "                pos2 = selected_position + 1\n",
    "            elif selected_position + 2 <= 6 and positions[selected_position + 2] == '-' and positions[selected_position + 1] == 'B':\n",
    "                pos2 = selected_position + 2\n",
    "            else:\n",
    "                print('Invalid Move')\n",
    "                continue\n",
    "        elif positions[selected_position] == 'B':\n",
    "            if selected_position - 1 >= 0 and positions[selected_position - 1] == '-':\n",
    "                pos2 = selected_position - 1\n",
    "            elif selected_position - 2 >= 0 and positions[selected_position - 2] == '-' and positions[selected_position - 1] == 'G':\n",
    "                pos2 = selected_position - 2\n",
    "            else:\n",
    "                print('Invalid Move')\n",
    "                continue\n",
    "\n",
    "        #step4\n",
    "        positions[selected_position], positions[pos2] = positions[pos2], positions[selected_position]\n",
    "\n",
    "        #step5\n",
    "        if positions == ['B', 'B', 'B', '-', 'G', 'G', 'G']:\n",
    "            print(positions)\n",
    "            print('You Win!')\n",
    "            break\n",
    "        if positions == ['G', 'G', 'G', 'B', 'B', 'B', '-'] or positions == ['-', 'G', 'G', 'G', 'B', 'B', 'B']:\n",
    "            print(positions)\n",
    "            print('OOPs you lose. No more moves.')\n",
    "            break\n"
   ]
  },
  {
   "cell_type": "code",
   "execution_count": null,
   "id": "bc73d249-247e-4bcf-b6c1-3234fb0f89d2",
   "metadata": {},
   "outputs": [],
   "source": []
  }
 ],
 "metadata": {
  "kernelspec": {
   "display_name": "Python 3 (ipykernel)",
   "language": "python",
   "name": "python3"
  },
  "language_info": {
   "codemirror_mode": {
    "name": "ipython",
    "version": 3
   },
   "file_extension": ".py",
   "mimetype": "text/x-python",
   "name": "python",
   "nbconvert_exporter": "python",
   "pygments_lexer": "ipython3",
   "version": "3.11.8"
  }
 },
 "nbformat": 4,
 "nbformat_minor": 5
}
